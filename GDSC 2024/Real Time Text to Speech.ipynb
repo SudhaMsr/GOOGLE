{
 "cells": [
  {
   "cell_type": "markdown",
   "id": "3a7d11da",
   "metadata": {},
   "source": [
    "Real time text t speech extraction using tessaract\n",
    "- https://tesseract-ocr.github.io/tessdoc/Compiling.html#windows"
   ]
  },
  {
   "cell_type": "code",
   "execution_count": 1,
   "id": "e20b404c",
   "metadata": {},
   "outputs": [],
   "source": [
    "import cv2\n",
    "import pytesseract\n",
    "import pyttsx3\n",
    "\n",
    "# Configure Tesseract OCR path (update this with your Tesseract installation path)\n",
    "pytesseract.pytesseract.tesseract_cmd = r'C:\\Program Files\\Tesseract-OCR\\tesseract.exe'\n",
    "\n",
    "# Initialize Text-to-Speech engine\n",
    "engine = pyttsx3.init()\n",
    "\n",
    "def extract_text_from_frame(frame):\n",
    "    # Convert the frame to grayscale\n",
    "    gray = cv2.cvtColor(frame, cv2.COLOR_BGR2GRAY)\n",
    "\n",
    "    # Use Tesseract OCR to extract text\n",
    "    text = pytesseract.image_to_string(gray)\n",
    "\n",
    "    return text\n",
    "\n",
    "def convert_text_to_audio(text):\n",
    "    # Use Text-to-Speech engine to convert text to audio\n",
    "    engine.say(text)\n",
    "    engine.runAndWait()\n",
    "\n",
    "if __name__ == \"__main__\":\n",
    "    # Open the camera (use 0 for default camera)\n",
    "    cap = cv2.VideoCapture(0)\n",
    "\n",
    "    while True:\n",
    "        # Read a frame from the camera\n",
    "        ret, frame = cap.read()\n",
    "\n",
    "        # Extract text from the frame\n",
    "        extracted_text = extract_text_from_frame(frame)\n",
    "\n",
    "        # Convert extracted text to audio\n",
    "        convert_text_to_audio(extracted_text)\n",
    "\n",
    "        # Display the frame with text (for visualization purposes)\n",
    "        cv2.putText(frame, extracted_text, (10, 30), cv2.FONT_HERSHEY_SIMPLEX, 1, (0, 255, 0), 2)\n",
    "        cv2.imshow('Camera Feed', frame)\n",
    "\n",
    "        # Break the loop if 'q' is pressed\n",
    "        if cv2.waitKey(1) & 0xFF == ord('q'):\n",
    "            break\n",
    "\n",
    "    # Release the camera and close all OpenCV windows\n",
    "    cap.release()\n",
    "    cv2.destroyAllWindows()\n"
   ]
  },
  {
   "cell_type": "code",
   "execution_count": 5,
   "id": "55151002",
   "metadata": {},
   "outputs": [
    {
     "name": "stdout",
     "output_type": "stream",
     "text": [
      "Collecting opencv-python\n",
      "  Downloading opencv_python-4.9.0.80-cp37-abi3-win_amd64.whl.metadata (20 kB)\n",
      "Requirement already satisfied: numpy>=1.21.2 in c:\\users\\bu23957\\appdata\\local\\anaconda3\\envs\\text_analytics\\lib\\site-packages (from opencv-python) (1.26.4)\n",
      "Downloading opencv_python-4.9.0.80-cp37-abi3-win_amd64.whl (38.6 MB)\n",
      "   ---------------------------------------- 0.0/38.6 MB ? eta -:--:--\n",
      "   ---------------------------------------- 0.0/38.6 MB ? eta -:--:--\n",
      "   ---------------------------------------- 0.0/38.6 MB ? eta -:--:--\n",
      "   ---------------------------------------- 0.0/38.6 MB ? eta -:--:--\n",
      "   ---------------------------------------- 0.0/38.6 MB 217.9 kB/s eta 0:02:58\n",
      "   ---------------------------------------- 0.1/38.6 MB 290.5 kB/s eta 0:02:13\n",
      "   ---------------------------------------- 0.1/38.6 MB 602.4 kB/s eta 0:01:04\n",
      "   ---------------------------------------- 0.2/38.6 MB 935.2 kB/s eta 0:00:42\n",
      "   ---------------------------------------- 0.2/38.6 MB 838.1 kB/s eta 0:00:46\n",
      "   ---------------------------------------- 0.3/38.6 MB 862.0 kB/s eta 0:00:45\n",
      "   ---------------------------------------- 0.3/38.6 MB 862.0 kB/s eta 0:00:45\n",
      "   ---------------------------------------- 0.3/38.6 MB 862.0 kB/s eta 0:00:45\n",
      "   ---------------------------------------- 0.3/38.6 MB 862.0 kB/s eta 0:00:45\n",
      "   ---------------------------------------- 0.3/38.6 MB 862.0 kB/s eta 0:00:45\n",
      "   ---------------------------------------- 0.3/38.6 MB 862.0 kB/s eta 0:00:45\n",
      "   ---------------------------------------- 0.3/38.6 MB 478.3 kB/s eta 0:01:21\n",
      "   ---------------------------------------- 0.3/38.6 MB 478.3 kB/s eta 0:01:21\n",
      "   ---------------------------------------- 0.3/38.6 MB 462.1 kB/s eta 0:01:23\n",
      "   ---------------------------------------- 0.5/38.6 MB 599.9 kB/s eta 0:01:04\n",
      "    --------------------------------------- 0.6/38.6 MB 706.6 kB/s eta 0:00:54\n",
      "    --------------------------------------- 0.7/38.6 MB 764.4 kB/s eta 0:00:50\n",
      "    --------------------------------------- 0.8/38.6 MB 889.4 kB/s eta 0:00:43\n",
      "    --------------------------------------- 1.0/38.6 MB 1.0 MB/s eta 0:00:37\n",
      "   - -------------------------------------- 1.2/38.6 MB 1.3 MB/s eta 0:00:30\n",
      "   - -------------------------------------- 1.6/38.6 MB 1.5 MB/s eta 0:00:25\n",
      "   - -------------------------------------- 1.8/38.6 MB 1.7 MB/s eta 0:00:22\n",
      "   -- ------------------------------------- 2.1/38.6 MB 1.9 MB/s eta 0:00:20\n",
      "   -- ------------------------------------- 2.6/38.6 MB 2.2 MB/s eta 0:00:17\n",
      "   --- ------------------------------------ 3.0/38.6 MB 2.5 MB/s eta 0:00:15\n",
      "   --- ------------------------------------ 3.4/38.6 MB 2.7 MB/s eta 0:00:13\n",
      "   --- ------------------------------------ 3.8/38.6 MB 2.9 MB/s eta 0:00:12\n",
      "   --- ------------------------------------ 3.9/38.6 MB 2.9 MB/s eta 0:00:13\n",
      "   ---- ----------------------------------- 3.9/38.6 MB 2.9 MB/s eta 0:00:13\n",
      "   ---- ----------------------------------- 4.2/38.6 MB 3.0 MB/s eta 0:00:12\n",
      "   ---- ----------------------------------- 4.7/38.6 MB 3.2 MB/s eta 0:00:11\n",
      "   ----- ---------------------------------- 5.2/38.6 MB 3.4 MB/s eta 0:00:10\n",
      "   ----- ---------------------------------- 5.7/38.6 MB 3.6 MB/s eta 0:00:10\n",
      "   ------ --------------------------------- 6.3/38.6 MB 3.9 MB/s eta 0:00:09\n",
      "   ------- -------------------------------- 6.9/38.6 MB 4.1 MB/s eta 0:00:08\n",
      "   ------- -------------------------------- 7.3/38.6 MB 4.2 MB/s eta 0:00:08\n",
      "   -------- ------------------------------- 7.9/38.6 MB 4.4 MB/s eta 0:00:07\n",
      "   -------- ------------------------------- 8.4/38.6 MB 4.6 MB/s eta 0:00:07\n",
      "   --------- ------------------------------ 8.8/38.6 MB 4.8 MB/s eta 0:00:07\n",
      "   --------- ------------------------------ 9.3/38.6 MB 4.9 MB/s eta 0:00:06\n",
      "   ---------- ----------------------------- 9.7/38.6 MB 5.0 MB/s eta 0:00:06\n",
      "   ---------- ----------------------------- 10.2/38.6 MB 5.1 MB/s eta 0:00:06\n",
      "   ---------- ----------------------------- 10.2/38.6 MB 5.0 MB/s eta 0:00:06\n",
      "   ---------- ----------------------------- 10.6/38.6 MB 7.4 MB/s eta 0:00:04\n",
      "   ----------- ---------------------------- 10.9/38.6 MB 7.9 MB/s eta 0:00:04\n",
      "   ----------- ---------------------------- 11.2/38.6 MB 8.2 MB/s eta 0:00:04\n",
      "   ----------- ---------------------------- 11.5/38.6 MB 8.3 MB/s eta 0:00:04\n",
      "   ------------ --------------------------- 11.9/38.6 MB 8.3 MB/s eta 0:00:04\n",
      "   ------------ --------------------------- 12.1/38.6 MB 8.3 MB/s eta 0:00:04\n",
      "   ------------ --------------------------- 12.5/38.6 MB 8.4 MB/s eta 0:00:04\n",
      "   ------------- -------------------------- 12.9/38.6 MB 8.3 MB/s eta 0:00:04\n",
      "   ------------- -------------------------- 13.3/38.6 MB 8.3 MB/s eta 0:00:04\n",
      "   -------------- ------------------------- 13.7/38.6 MB 8.3 MB/s eta 0:00:04\n",
      "   -------------- ------------------------- 14.2/38.6 MB 9.0 MB/s eta 0:00:03\n",
      "   --------------- ------------------------ 14.6/38.6 MB 9.0 MB/s eta 0:00:03\n",
      "   --------------- ------------------------ 15.0/38.6 MB 9.0 MB/s eta 0:00:03\n",
      "   --------------- ------------------------ 15.4/38.6 MB 8.8 MB/s eta 0:00:03\n",
      "   ---------------- ----------------------- 15.8/38.6 MB 8.7 MB/s eta 0:00:03\n",
      "   ---------------- ----------------------- 16.3/38.6 MB 8.6 MB/s eta 0:00:03\n",
      "   ----------------- ---------------------- 16.7/38.6 MB 8.6 MB/s eta 0:00:03\n",
      "   ----------------- ---------------------- 17.1/38.6 MB 8.6 MB/s eta 0:00:03\n",
      "   ------------------ --------------------- 17.6/38.6 MB 8.6 MB/s eta 0:00:03\n",
      "   ------------------ --------------------- 18.1/38.6 MB 8.6 MB/s eta 0:00:03\n",
      "   ------------------- -------------------- 18.6/38.6 MB 8.5 MB/s eta 0:00:03\n",
      "   ------------------- -------------------- 19.1/38.6 MB 8.5 MB/s eta 0:00:03\n",
      "   -------------------- ------------------- 19.5/38.6 MB 8.5 MB/s eta 0:00:03\n",
      "   -------------------- ------------------- 19.9/38.6 MB 8.5 MB/s eta 0:00:03\n",
      "   -------------------- ------------------- 20.3/38.6 MB 8.4 MB/s eta 0:00:03\n",
      "   --------------------- ------------------ 20.6/38.6 MB 8.6 MB/s eta 0:00:03\n",
      "   --------------------- ------------------ 21.0/38.6 MB 8.7 MB/s eta 0:00:03\n",
      "   ---------------------- ----------------- 21.4/38.6 MB 8.8 MB/s eta 0:00:02\n",
      "   ---------------------- ----------------- 21.7/38.6 MB 8.8 MB/s eta 0:00:02\n",
      "   ---------------------- ----------------- 22.1/38.6 MB 9.0 MB/s eta 0:00:02\n",
      "   ----------------------- ---------------- 22.5/38.6 MB 9.0 MB/s eta 0:00:02\n",
      "   ----------------------- ---------------- 22.9/38.6 MB 9.1 MB/s eta 0:00:02\n",
      "   ------------------------ --------------- 23.2/38.6 MB 9.1 MB/s eta 0:00:02\n",
      "   ------------------------ --------------- 23.5/38.6 MB 8.8 MB/s eta 0:00:02\n",
      "   ------------------------ --------------- 23.7/38.6 MB 8.7 MB/s eta 0:00:02\n",
      "   ------------------------ --------------- 24.0/38.6 MB 8.6 MB/s eta 0:00:02\n",
      "   ------------------------- -------------- 24.3/38.6 MB 8.5 MB/s eta 0:00:02\n",
      "   ------------------------- -------------- 24.7/38.6 MB 8.5 MB/s eta 0:00:02\n",
      "   ------------------------- -------------- 25.0/38.6 MB 8.4 MB/s eta 0:00:02\n",
      "   -------------------------- ------------- 25.4/38.6 MB 8.4 MB/s eta 0:00:02\n",
      "   -------------------------- ------------- 25.7/38.6 MB 8.4 MB/s eta 0:00:02\n",
      "   --------------------------- ------------ 26.1/38.6 MB 8.3 MB/s eta 0:00:02\n",
      "   --------------------------- ------------ 26.5/38.6 MB 8.2 MB/s eta 0:00:02\n",
      "   --------------------------- ------------ 26.8/38.6 MB 8.2 MB/s eta 0:00:02\n",
      "   ---------------------------- ----------- 27.3/38.6 MB 8.2 MB/s eta 0:00:02\n",
      "   ---------------------------- ----------- 27.7/38.6 MB 8.1 MB/s eta 0:00:02\n",
      "   ----------------------------- ---------- 28.1/38.6 MB 8.1 MB/s eta 0:00:02\n",
      "   ----------------------------- ---------- 28.6/38.6 MB 8.1 MB/s eta 0:00:02\n",
      "   ------------------------------ --------- 29.0/38.6 MB 8.1 MB/s eta 0:00:02\n",
      "   ------------------------------ --------- 29.4/38.6 MB 8.0 MB/s eta 0:00:02\n",
      "   ------------------------------ --------- 29.8/38.6 MB 8.0 MB/s eta 0:00:02\n",
      "   ------------------------------- -------- 30.2/38.6 MB 8.1 MB/s eta 0:00:02\n",
      "   ------------------------------- -------- 30.6/38.6 MB 8.1 MB/s eta 0:00:01\n",
      "   -------------------------------- ------- 31.0/38.6 MB 8.1 MB/s eta 0:00:01\n",
      "   -------------------------------- ------- 31.3/38.6 MB 8.1 MB/s eta 0:00:01\n",
      "   -------------------------------- ------- 31.6/38.6 MB 8.0 MB/s eta 0:00:01\n",
      "   --------------------------------- ------ 32.0/38.6 MB 8.0 MB/s eta 0:00:01\n",
      "   --------------------------------- ------ 32.3/38.6 MB 8.0 MB/s eta 0:00:01\n",
      "   --------------------------------- ------ 32.6/38.6 MB 7.9 MB/s eta 0:00:01\n",
      "   ---------------------------------- ----- 33.0/38.6 MB 7.9 MB/s eta 0:00:01\n",
      "   ---------------------------------- ----- 33.2/38.6 MB 7.8 MB/s eta 0:00:01\n",
      "   ---------------------------------- ----- 33.5/38.6 MB 7.7 MB/s eta 0:00:01\n",
      "   ----------------------------------- ---- 34.0/38.6 MB 8.0 MB/s eta 0:00:01\n",
      "   ----------------------------------- ---- 34.3/38.6 MB 8.0 MB/s eta 0:00:01\n",
      "   ----------------------------------- ---- 34.7/38.6 MB 8.0 MB/s eta 0:00:01\n",
      "   ------------------------------------ --- 34.9/38.6 MB 8.0 MB/s eta 0:00:01\n",
      "   ------------------------------------ --- 35.3/38.6 MB 8.0 MB/s eta 0:00:01\n",
      "   ------------------------------------ --- 35.6/38.6 MB 7.9 MB/s eta 0:00:01\n",
      "   ------------------------------------- -- 35.9/38.6 MB 7.9 MB/s eta 0:00:01\n",
      "   ------------------------------------- -- 36.2/38.6 MB 7.9 MB/s eta 0:00:01\n",
      "   ------------------------------------- -- 36.5/38.6 MB 7.9 MB/s eta 0:00:01\n",
      "   -------------------------------------- - 36.9/38.6 MB 7.9 MB/s eta 0:00:01\n",
      "   -------------------------------------- - 37.2/38.6 MB 7.8 MB/s eta 0:00:01\n",
      "   -------------------------------------- - 37.5/38.6 MB 7.7 MB/s eta 0:00:01\n",
      "   ---------------------------------------  37.8/38.6 MB 7.6 MB/s eta 0:00:01\n",
      "   ---------------------------------------  38.1/38.6 MB 7.5 MB/s eta 0:00:01\n",
      "   ---------------------------------------  38.5/38.6 MB 7.4 MB/s eta 0:00:01\n",
      "   ---------------------------------------  38.6/38.6 MB 7.4 MB/s eta 0:00:01\n",
      "   ---------------------------------------  38.6/38.6 MB 7.4 MB/s eta 0:00:01\n",
      "   ---------------------------------------- 38.6/38.6 MB 6.8 MB/s eta 0:00:00\n",
      "Installing collected packages: opencv-python\n",
      "Successfully installed opencv-python-4.9.0.80\n"
     ]
    },
    {
     "name": "stderr",
     "output_type": "stream",
     "text": [
      "DEPRECATION: Loading egg at c:\\users\\bu23957\\appdata\\local\\anaconda3\\envs\\text_analytics\\lib\\site-packages\\huggingface_hub-0.22.2-py3.8.egg is deprecated. pip 24.3 will enforce this behaviour change. A possible replacement is to use pip for package installation.. Discussion can be found at https://github.com/pypa/pip/issues/12330\n"
     ]
    }
   ],
   "source": [
    "!pip install opencv-python"
   ]
  },
  {
   "cell_type": "code",
   "execution_count": 4,
   "id": "fd14fd8d",
   "metadata": {},
   "outputs": [
    {
     "name": "stdout",
     "output_type": "stream",
     "text": [
      "Collecting pytesseract\n",
      "  Downloading pytesseract-0.3.10-py3-none-any.whl.metadata (11 kB)\n",
      "Requirement already satisfied: packaging>=21.3 in c:\\users\\bu23957\\appdata\\local\\anaconda3\\envs\\text_analytics\\lib\\site-packages (from pytesseract) (23.2)\n",
      "Requirement already satisfied: Pillow>=8.0.0 in c:\\users\\bu23957\\appdata\\local\\anaconda3\\envs\\text_analytics\\lib\\site-packages (from pytesseract) (10.2.0)\n",
      "Downloading pytesseract-0.3.10-py3-none-any.whl (14 kB)\n",
      "Installing collected packages: pytesseract\n",
      "Successfully installed pytesseract-0.3.10\n"
     ]
    },
    {
     "name": "stderr",
     "output_type": "stream",
     "text": [
      "DEPRECATION: Loading egg at c:\\users\\bu23957\\appdata\\local\\anaconda3\\envs\\text_analytics\\lib\\site-packages\\huggingface_hub-0.22.2-py3.8.egg is deprecated. pip 24.3 will enforce this behaviour change. A possible replacement is to use pip for package installation.. Discussion can be found at https://github.com/pypa/pip/issues/12330\n"
     ]
    }
   ],
   "source": [
    "!pip install pytesseract\n",
    "### you need to install esseract OCR engine on your machine.Tesseract OCR Installation."
   ]
  },
  {
   "cell_type": "code",
   "execution_count": 2,
   "id": "5e3be75a",
   "metadata": {},
   "outputs": [
    {
     "name": "stdout",
     "output_type": "stream",
     "text": [
      "Collecting pyttsx3\n",
      "  Downloading pyttsx3-2.90-py3-none-any.whl.metadata (3.6 kB)\n",
      "Collecting comtypes (from pyttsx3)\n",
      "  Downloading comtypes-1.4.1-py3-none-any.whl.metadata (4.1 kB)\n",
      "Collecting pypiwin32 (from pyttsx3)\n",
      "  Downloading pypiwin32-223-py3-none-any.whl.metadata (236 bytes)\n",
      "Requirement already satisfied: pywin32 in c:\\users\\bu23957\\appdata\\local\\anaconda3\\envs\\text_analytics\\lib\\site-packages (from pyttsx3) (305.1)\n",
      "Downloading pyttsx3-2.90-py3-none-any.whl (39 kB)\n",
      "Downloading comtypes-1.4.1-py3-none-any.whl (197 kB)\n",
      "   ---------------------------------------- 0.0/197.9 kB ? eta -:--:--\n",
      "   -------------- ------------------------- 71.7/197.9 kB 1.3 MB/s eta 0:00:01\n",
      "   ---------------------------------------  194.6/197.9 kB 2.0 MB/s eta 0:00:01\n",
      "   ---------------------------------------  194.6/197.9 kB 2.0 MB/s eta 0:00:01\n",
      "   ---------------------------------------- 197.9/197.9 kB 1.3 MB/s eta 0:00:00\n",
      "Downloading pypiwin32-223-py3-none-any.whl (1.7 kB)\n",
      "Installing collected packages: comtypes, pypiwin32, pyttsx3\n",
      "Successfully installed comtypes-1.4.1 pypiwin32-223 pyttsx3-2.90\n",
      "Note: you may need to restart the kernel to use updated packages.\n"
     ]
    },
    {
     "name": "stderr",
     "output_type": "stream",
     "text": [
      "DEPRECATION: Loading egg at c:\\users\\bu23957\\appdata\\local\\anaconda3\\envs\\text_analytics\\lib\\site-packages\\huggingface_hub-0.22.2-py3.8.egg is deprecated. pip 24.3 will enforce this behaviour change. A possible replacement is to use pip for package installation.. Discussion can be found at https://github.com/pypa/pip/issues/12330\n"
     ]
    }
   ],
   "source": [
    "pip install pyttsx3"
   ]
  },
  {
   "cell_type": "code",
   "execution_count": null,
   "id": "3f7c8f54",
   "metadata": {},
   "outputs": [],
   "source": []
  },
  {
   "cell_type": "code",
   "execution_count": null,
   "id": "52d9aa8d",
   "metadata": {},
   "outputs": [],
   "source": []
  },
  {
   "cell_type": "code",
   "execution_count": null,
   "id": "f7e91352",
   "metadata": {},
   "outputs": [],
   "source": []
  }
 ],
 "metadata": {
  "kernelspec": {
   "display_name": "text_analytics",
   "language": "python",
   "name": "text_analytics"
  },
  "language_info": {
   "codemirror_mode": {
    "name": "ipython",
    "version": 3
   },
   "file_extension": ".py",
   "mimetype": "text/x-python",
   "name": "python",
   "nbconvert_exporter": "python",
   "pygments_lexer": "ipython3",
   "version": "3.11.8"
  }
 },
 "nbformat": 4,
 "nbformat_minor": 5
}
