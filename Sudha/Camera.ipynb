{
 "cells": [
  {
   "cell_type": "code",
   "execution_count": null,
   "id": "e20b404c",
   "metadata": {},
   "outputs": [],
   "source": [
    "import cv2\n",
    "import pytesseract\n",
    "import pyttsx3\n",
    "\n",
    "# Configure Tesseract OCR path (update this with your Tesseract installation path)\n",
    "pytesseract.pytesseract.tesseract_cmd = r'C:\\Program Files\\Tesseract-OCR\\tesseract.exe'\n",
    "\n",
    "# Initialize Text-to-Speech engine\n",
    "engine = pyttsx3.init()\n",
    "\n",
    "def extract_text_from_frame(frame):\n",
    "    # Convert the frame to grayscale\n",
    "    gray = cv2.cvtColor(frame, cv2.COLOR_BGR2GRAY)\n",
    "\n",
    "    # Use Tesseract OCR to extract text\n",
    "    text = pytesseract.image_to_string(gray)\n",
    "\n",
    "    return text\n",
    "\n",
    "def convert_text_to_audio(text):\n",
    "    # Use Text-to-Speech engine to convert text to audio\n",
    "    engine.say(text)\n",
    "    engine.runAndWait()\n",
    "\n",
    "if __name__ == \"__main__\":\n",
    "    # Open the camera (use 0 for default camera)\n",
    "    cap = cv2.VideoCapture(0)\n",
    "\n",
    "    while True:\n",
    "        # Read a frame from the camera\n",
    "        ret, frame = cap.read()\n",
    "\n",
    "        # Extract text from the frame\n",
    "        extracted_text = extract_text_from_frame(frame)\n",
    "\n",
    "        # Convert extracted text to audio\n",
    "        convert_text_to_audio(extracted_text)\n",
    "\n",
    "        # Display the frame with text (for visualization purposes)\n",
    "        cv2.putText(frame, extracted_text, (10, 30), cv2.FONT_HERSHEY_SIMPLEX, 1, (0, 255, 0), 2)\n",
    "        cv2.imshow('Camera Feed', frame)\n",
    "\n",
    "        # Break the loop if 'q' is pressed\n",
    "        if cv2.waitKey(1) & 0xFF == ord('q'):\n",
    "            break\n",
    "\n",
    "    # Release the camera and close all OpenCV windows\n",
    "    cap.release()\n",
    "    cv2.destroyAllWindows()\n"
   ]
  },
  {
   "cell_type": "code",
   "execution_count": null,
   "id": "55151002",
   "metadata": {},
   "outputs": [],
   "source": [
    "pip install opencv-python\n"
   ]
  },
  {
   "cell_type": "code",
   "execution_count": null,
   "id": "fd14fd8d",
   "metadata": {},
   "outputs": [],
   "source": [
    "pip install pytesseract\n",
    "### you need to install esseract OCR engine on your machine.Tesseract OCR Installation."
   ]
  },
  {
   "cell_type": "code",
   "execution_count": null,
   "id": "5e3be75a",
   "metadata": {},
   "outputs": [],
   "source": [
    "pip install pyttsx3\n"
   ]
  },
  {
   "cell_type": "code",
   "execution_count": null,
   "id": "3f7c8f54",
   "metadata": {},
   "outputs": [],
   "source": []
  },
  {
   "cell_type": "code",
   "execution_count": null,
   "id": "52d9aa8d",
   "metadata": {},
   "outputs": [],
   "source": []
  },
  {
   "cell_type": "code",
   "execution_count": null,
   "id": "f7e91352",
   "metadata": {},
   "outputs": [],
   "source": []
  }
 ],
 "metadata": {
  "kernelspec": {
   "display_name": "Python 3 (ipykernel)",
   "language": "python",
   "name": "python3"
  },
  "language_info": {
   "codemirror_mode": {
    "name": "ipython",
    "version": 3
   },
   "file_extension": ".py",
   "mimetype": "text/x-python",
   "name": "python",
   "nbconvert_exporter": "python",
   "pygments_lexer": "ipython3",
   "version": "3.11.5"
  }
 },
 "nbformat": 4,
 "nbformat_minor": 5
}
