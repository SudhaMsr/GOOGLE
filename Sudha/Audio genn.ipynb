{
 "cells": [
  {
   "cell_type": "markdown",
   "id": "3eec4d96",
   "metadata": {},
   "source": [
    "## It is taking input from the user in text, and giving audio output.\n"
   ]
  },
  {
   "cell_type": "code",
   "execution_count": 2,
   "id": "ca8599b1",
   "metadata": {},
   "outputs": [
    {
     "name": "stdout",
     "output_type": "stream",
     "text": [
      "Requirement already satisfied: gTTS in c:\\users\\bu23957\\appdata\\local\\anaconda3\\lib\\site-packages (2.5.1)\n",
      "Requirement already satisfied: requests<3,>=2.27 in c:\\users\\bu23957\\appdata\\local\\anaconda3\\lib\\site-packages (from gTTS) (2.31.0)\n",
      "Requirement already satisfied: click<8.2,>=7.1 in c:\\users\\bu23957\\appdata\\local\\anaconda3\\lib\\site-packages (from gTTS) (8.0.4)\n",
      "Requirement already satisfied: colorama in c:\\users\\bu23957\\appdata\\local\\anaconda3\\lib\\site-packages (from click<8.2,>=7.1->gTTS) (0.4.6)\n",
      "Requirement already satisfied: charset-normalizer<4,>=2 in c:\\users\\bu23957\\appdata\\local\\anaconda3\\lib\\site-packages (from requests<3,>=2.27->gTTS) (2.0.4)\n",
      "Requirement already satisfied: idna<4,>=2.5 in c:\\users\\bu23957\\appdata\\local\\anaconda3\\lib\\site-packages (from requests<3,>=2.27->gTTS) (2.10)\n",
      "Requirement already satisfied: urllib3<3,>=1.21.1 in c:\\users\\bu23957\\appdata\\local\\anaconda3\\lib\\site-packages (from requests<3,>=2.27->gTTS) (1.26.16)\n",
      "Requirement already satisfied: certifi>=2017.4.17 in c:\\users\\bu23957\\appdata\\local\\anaconda3\\lib\\site-packages (from requests<3,>=2.27->gTTS) (2023.11.17)\n"
     ]
    }
   ],
   "source": [
    "!pip install gTTS "
   ]
  },
  {
   "cell_type": "code",
   "execution_count": 3,
   "id": "c5caaf9f",
   "metadata": {},
   "outputs": [
    {
     "name": "stderr",
     "output_type": "stream",
     "text": [
      "[nltk_data] Downloading package punkt to\n",
      "[nltk_data]     C:\\Users\\bu23957\\AppData\\Roaming\\nltk_data...\n",
      "[nltk_data]   Package punkt is already up-to-date!\n"
     ]
    },
    {
     "name": "stdout",
     "output_type": "stream",
     "text": [
      "Enter text to understand and spell: good morning team\n",
      "Spelled Text: GOOD MORNING TEAM\n"
     ]
    }
   ],
   "source": [
    "from gtts import gTTS\n",
    "import os\n",
    "import nltk\n",
    "from nltk import word_tokenize\n",
    "\n",
    "# Download the nltk data\n",
    "nltk.download('punkt')\n",
    "\n",
    "def understand_and_spell(text):\n",
    "    # Tokenize the text into words\n",
    "    words = word_tokenize(text)\n",
    "\n",
    "    # Spell out each word\n",
    "    spelled_text = ' '.join([word.upper() for word in words])\n",
    "\n",
    "    # Print spelled text\n",
    "    print(\"Spelled Text:\", spelled_text)\n",
    "\n",
    "    # Convert text to speech using gTTS\n",
    "    tts = gTTS(text=spelled_text, lang='en')\n",
    "    tts.save(\"output.mp3\")\n",
    "\n",
    "    # Play the audio\n",
    "    os.system(\"start output.mp3\")\n",
    "\n",
    "if __name__ == \"__main__\":\n",
    "    # Input text to understand and spell\n",
    "    input_text = input(\"Enter text to understand and spell: \")\n",
    "\n",
    "    # Perform understanding and spelling\n",
    "    understand_and_spell(input_text)"
   ]
  },
  {
   "cell_type": "code",
   "execution_count": null,
   "id": "a0db6d0f",
   "metadata": {},
   "outputs": [],
   "source": []
  }
 ],
 "metadata": {
  "kernelspec": {
   "display_name": "Python 3 (ipykernel)",
   "language": "python",
   "name": "python3"
  },
  "language_info": {
   "codemirror_mode": {
    "name": "ipython",
    "version": 3
   },
   "file_extension": ".py",
   "mimetype": "text/x-python",
   "name": "python",
   "nbconvert_exporter": "python",
   "pygments_lexer": "ipython3",
   "version": "3.11.5"
  }
 },
 "nbformat": 4,
 "nbformat_minor": 5
}
